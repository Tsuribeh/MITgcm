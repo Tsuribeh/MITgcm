{
 "cells": [
  {
   "cell_type": "code",
   "execution_count": 43,
   "metadata": {},
   "outputs": [],
   "source": [
    "#水惑星の境界条件、強制力の作成\n",
    "\n",
    "import numpy as np\n",
    "# import xarray as xr\n",
    "import MITgcmutils as mit\n",
    "# import matplotlib.tri as tri\n",
    "import matplotlib.pyplot as plt\n",
    "from scipy.spatial import cKDTree\n",
    "from numba import njit\n",
    "import MITgcmutils as mit\n",
    "import cmocean \n",
    "from matplotlib.colors import Normalize # Normalizeをimport\n",
    "from matplotlib.colors import TwoSlopeNorm\n",
    "from geopy.distance import great_circle\n",
    "import cartopy.crs as ccrs\n",
    "import os\n",
    "import matplotlib.ticker as mticker\n",
    "from cartopy.mpl.ticker import LatitudeFormatter,LongitudeFormatter"
   ]
  },
  {
   "cell_type": "code",
   "execution_count": null,
   "metadata": {},
   "outputs": [],
   "source": []
  },
  {
   "cell_type": "code",
   "execution_count": 44,
   "metadata": {},
   "outputs": [],
   "source": [
    "fileloc_ocn='/home/tsuribeh/MITgcm/cases_tsuribeh_master/cpl_Aquaplanet/input_ocn/'\n",
    "fileloc_atm='/home/tsuribeh/MITgcm/cases_tsuribeh_master/cpl_Aquaplanet/input_atm/'\n",
    "fileloc_cpl='/home/tsuribeh/MITgcm/cases_tsuribeh_master/cpl_Aquaplanet/input_cpl/'\n",
    "\n"
   ]
  },
  {
   "cell_type": "code",
   "execution_count": 45,
   "metadata": {},
   "outputs": [],
   "source": [
    "#海洋地形データの作成\n",
    "filename_bathy = 'bathy.AP5200_CS32.bin'\n",
    "bathy_data = np.ones((32,192))*-5200.\n",
    "mit.writebin(fileloc_ocn+filename_bathy, bathy_data)"
   ]
  },
  {
   "cell_type": "code",
   "execution_count": null,
   "metadata": {},
   "outputs": [],
   "source": [
    "#海洋初期水温場の作成\n",
    "filename_ocniniT = 'iniT.AP5200CS32_15k.bin'\n",
    "iniT_data = np.ones((15,32,192))*12.\n",
    "mit.writebin(fileloc_ocn+filename_ocniniT, iniT_data)"
   ]
  },
  {
   "cell_type": "code",
   "execution_count": 47,
   "metadata": {},
   "outputs": [],
   "source": [
    "#海洋初期塩分場の作成\n",
    "filename_ocniniS = 'iniS.AP5200CS32_15k.bin'\n",
    "iniS_data = np.ones((15,32,192))*33.\n",
    "mit.writebin(fileloc_ocn+filename_ocniniS, iniS_data)"
   ]
  },
  {
   "cell_type": "code",
   "execution_count": 48,
   "metadata": {},
   "outputs": [],
   "source": [
    "#大気地形データの作成\n",
    "filename_bathy = 'topo.AP5200_CS32.bin'\n",
    "bathy_data = np.zeros((32,192))\n",
    "mit.writebin(fileloc_atm+filename_bathy, bathy_data)"
   ]
  },
  {
   "cell_type": "code",
   "execution_count": 49,
   "metadata": {},
   "outputs": [],
   "source": [
    "#land maskの作成\n",
    "filename_landmask = 'landmask.AP5200_CS32.bin'\n",
    "landmask_data = np.zeros((32,192))\n",
    "mit.writebin(fileloc_atm+filename_landmask, landmask_data)\n"
   ]
  },
  {
   "cell_type": "code",
   "execution_count": 50,
   "metadata": {},
   "outputs": [],
   "source": [
    "rO0 = np.empty((0,3))\n",
    "filename_runOff = 'runOff.AP5200_CS32.bin'\n",
    "mit.writebin(fileloc_cpl+filename_runOff, rO0, dataprec='float64')"
   ]
  }
 ],
 "metadata": {
  "kernelspec": {
   "display_name": "Python 3",
   "language": "python",
   "name": "python3"
  },
  "language_info": {
   "codemirror_mode": {
    "name": "ipython",
    "version": 3
   },
   "file_extension": ".py",
   "mimetype": "text/x-python",
   "name": "python",
   "nbconvert_exporter": "python",
   "pygments_lexer": "ipython3",
   "version": "3.10.12"
  }
 },
 "nbformat": 4,
 "nbformat_minor": 2
}
